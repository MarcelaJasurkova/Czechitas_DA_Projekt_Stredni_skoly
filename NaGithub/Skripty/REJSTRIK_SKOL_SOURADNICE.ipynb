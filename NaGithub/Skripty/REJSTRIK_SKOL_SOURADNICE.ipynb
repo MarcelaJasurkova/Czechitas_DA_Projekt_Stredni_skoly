{
 "cells": [
  {
   "cell_type": "code",
   "execution_count": 8,
   "metadata": {},
   "outputs": [],
   "source": [
    "# funkce pro získání souřadnic z adresy\n",
    "import requests\n",
    "\n",
    "url = \"https://api.mapy.cz/v1/geocode\"\n",
    "\n",
    "params = {\n",
    "    \"lang\": \"cs\",\n",
    "    \"apikey\": \"eyJpIjoyNTcsImMiOjE2Njc0ODU2MjN9.c_UlvdpHGTI_Jb-TNMYlDYuIkCLJaUpi911RdlwPsAY\",\n",
    "    \"limit\": \"5\",\n",
    "}\n",
    "\n",
    "headers = {\n",
    "    \"Origin\": \"https://pro.mapy.cz\",\n",
    "    \"Referer\": \"https://pro.mapy.cz/\",\n",
    "    \"Sec-Fetch-Dest\": \"empty\",\n",
    "    \"Sec-Fetch-Mode\": \"cors\",\n",
    "    \"Sec-Fetch-Site\": \"same-site\",\n",
    "    \"User-Agent\": \"Mozilla/5.0 (Windows NT 10.0; Win64; x64; rv:109.0) Gecko/20100101 Firefox/119.0\",\n",
    "}\n",
    "\n",
    "\n",
    "def get_position(query: str) -> dict:\n",
    "    params[\"query\"] = query\n",
    "\n",
    "    resp = requests.get(url, params=params, headers=headers)\n",
    "    data = resp.json()\n",
    "\n",
    "    if len(data[\"items\"]) != 1:\n",
    "        return {\"err\": \"Nejednoznačné zadání\"}\n",
    "        exit()\n",
    "\n",
    "    geo = data[\"items\"][0][\"position\"]\n",
    "    return geo"
   ]
  },
  {
   "cell_type": "code",
   "execution_count": null,
   "metadata": {},
   "outputs": [],
   "source": [
    "# získání souřadnic z adres škol pomocí fuknce výše\n",
    "import csv\n",
    "\n",
    "# Otevření CSV souboru pro čtení a doplnění hlavičky o dva názvy sloupců\n",
    "with open('CSV_Rejstrik_skol.csv', 'r', encoding='utf-8', errors='ignore', newline='') as soubor_csv:\n",
    "    ctenar = csv.reader(soubor_csv)\n",
    "    hlavicka = next(ctenar)\n",
    "    hlavicka += [\"Lat\", \"Lon\"] \n",
    "    \n",
    "    zaznam_adres = []  \n",
    "    novy_zaznam = []\n",
    "          \n",
    "    for radek in ctenar:\n",
    "        adresa_komplet = radek[5] \n",
    "        souradnice = get_position(adresa_komplet) \n",
    "\n",
    "        if 'lat' in souradnice and 'lon' in souradnice: \n",
    "            LAT = souradnice['lat']\n",
    "            LON = souradnice['lon']\n",
    "        else:\n",
    "            print(f\"Adresa: {adresa_komplet} - Souřadnice nebyly nalezeny\")\n",
    "\n",
    "        # Přidání souřadnic k řádku\n",
    "        novy_radek = radek + [LAT, LON]\n",
    "        novy_zaznam.append(novy_radek)\n",
    "# Zapsání nového seznamu řádků s přidanými souřadnicemi zpět do CSV souboru\n",
    "with open('REJSTRIK_SKOL_SOURADNICE.csv', 'w', encoding='utf-8', newline='') as vystup_csv:\n",
    "    pisar = csv.writer(vystup_csv)    \n",
    "    pisar.writerow(hlavicka)\n",
    "    for radek in novy_zaznam:\n",
    "        pisar.writerow(radek)\n",
    "        \n"
   ]
  }
 ],
 "metadata": {
  "kernelspec": {
   "display_name": "Python 3",
   "language": "python",
   "name": "python3"
  },
  "language_info": {
   "codemirror_mode": {
    "name": "ipython",
    "version": 3
   },
   "file_extension": ".py",
   "mimetype": "text/x-python",
   "name": "python",
   "nbconvert_exporter": "python",
   "pygments_lexer": "ipython3",
   "version": "3.10.11"
  }
 },
 "nbformat": 4,
 "nbformat_minor": 2
}
